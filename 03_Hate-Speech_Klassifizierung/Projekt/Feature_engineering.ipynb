import csv 
import numpy as np
bad_word_list = csv.reader(open("bad_word_list.csv", encoding="utf-8"), delimiter=";")
data_lines = [line for line in bad_word_list]
for element in data_lines:
    for count in range(1, 7):
        element.pop(1)
        

data_line = np.array(data_lines)
badwords = data_line.reshape(-1,)

csv_reader = csv.reader(open("hatespeech_task_train.csv", encoding="utf-8"), delimiter = "\t")
inputtext = [line for line in csv_reader]


if (data_lines[1]=="2g1c;;;;;;"):
    print("yes")
else:
    print("no")
    
def amount_cap_words(inputtext):
	splittext = inputtext.split(" ")
	total = 0
	first = ""
	for word in splittext:
		if (len(word) > 0):
			first = word[0]
			if first.isupper():
				total += 1
	return_dict = {'values' : [total], 'heads' : ['@Attribute amount_cap_words REAL']}
	return return_dict

def cap_word_ratio(inputtext):
	splittext = inputtext.split(" ")
	total = 0
	first = ""
	for word in splittext:
		if (len(word) > 0):
			first = word[0]
			if first.isupper():
				total += 1
	total_cap_words = float(total)
	amount_words = float(len(splittext))
	
	return_dict = {'values' : [total_cap_words/amount_words], 'heads' : ['@Attribute cap_word_ratio REAL']}
	return return_dict

def length_of_comment(inputtext):
    total = len(inputtext)

    return_dict = {'values' : [total], 'heads' : ['@Attribute length_of_comment REAL']}
    return return_dict

    
def bad_word_in_comment(inputtext):
    total = 0
    text = inputtext.split(" ")
    for word in text:
        for badword in badwords:
            if badword == word:
                total += 1

    return_dict = {'values' : [total], 'heads' : ['@Attribute bad_word_in_comment REAL']}
    return return_dict

def mark_in_comment(inputtext):
    total = 0
    text = inputtext.split(" ")
    marks = ["@", "!", "?", "$"]
    for word in text:
        for mark in marks:
            if mark in word:
                total += 1

    return_dict = {'values' : [total], 'heads' : ['@Attribute mark_in_comment REAL']}
    return return_dict

def leven_distance(inputtext):
    total = 0 
    text = inputtext.split(" ")
    for word in text:
        for badword in badwords:
            lev = levenshteinDistance1(word, badword)
            total = total + lev  
    return_dict = {'values' : [total], 'heads' : ['@Attribute leven_distance REAL']}
    return return_dict           
                
def levenshteinDistance1(str1, str2):
    m = len(str1)
    n = len(str2)
    d = [[i] for i in range(1, m + 1)]   # d matrix rows
    d.insert(0, list(range(0, n + 1)))   # d matrix columns
    for j in range(1, n + 1):
        for i in range(1, m + 1):
            if str1[i - 1] == str2[j - 1]:   # Python (string) is 0-based
                substitutionCost = 0
            else:
                substitutionCost = 1
            d[i].insert(j, min(d[i - 1][j] + 1,
                               d[i][j - 1] + 1,
                               d[i - 1][j - 1] + substitutionCost))
    return d[-1][-1]
